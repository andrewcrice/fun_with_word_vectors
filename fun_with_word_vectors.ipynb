{
 "cells": [
  {
   "cell_type": "markdown",
   "metadata": {},
   "source": [
    "# Fun with word vectors"
   ]
  },
  {
   "cell_type": "markdown",
   "metadata": {},
   "source": [
    "gensim is a convenient python library that makes natural language processing really easy to play with."
   ]
  },
  {
   "cell_type": "code",
   "execution_count": 15,
   "metadata": {},
   "outputs": [],
   "source": [
    "import gensim\n",
    "import gensim.downloader as api"
   ]
  },
  {
   "cell_type": "markdown",
   "metadata": {},
   "source": [
    "Load the pretrained vector model, either from the internet or from local cache"
   ]
  },
  {
   "cell_type": "code",
   "execution_count": 2,
   "metadata": {},
   "outputs": [],
   "source": [
    "#wv = api.load('word2vec-google-news-300')\n",
    "#wv = api.load('glove-wiki-gigaword-50')\n",
    "wv = api.load('glove-wiki-gigaword-100')"
   ]
  },
  {
   "cell_type": "markdown",
   "metadata": {},
   "source": [
    "print the first 10 words in the vocabulary"
   ]
  },
  {
   "cell_type": "code",
   "execution_count": 16,
   "metadata": {},
   "outputs": [
    {
     "name": "stdout",
     "output_type": "stream",
     "text": [
      "the\n",
      ",\n",
      ".\n",
      "of\n",
      "to\n",
      "and\n",
      "in\n",
      "a\n",
      "\"\n",
      "'s\n"
     ]
    }
   ],
   "source": [
    "for i, word in enumerate(wv.vocab):\n",
    "    if i == 10:\n",
    "        break\n",
    "    print(word)"
   ]
  },
  {
   "cell_type": "markdown",
   "metadata": {},
   "source": [
    "most_similar finds a spot in the hyperspace by averaging vectors (both positive and negative), then computes the cosine similarity of every single word in the vocabulary to that single spot. The closest words are returned in rank order."
   ]
  },
  {
   "cell_type": "code",
   "execution_count": 20,
   "metadata": {},
   "outputs": [
    {
     "data": {
      "text/plain": [
       "[('queen', 0.7698541283607483),\n",
       " ('monarch', 0.6843380928039551),\n",
       " ('throne', 0.6755736470222473),\n",
       " ('daughter', 0.6594556570053101),\n",
       " ('princess', 0.6520534157752991),\n",
       " ('prince', 0.6517034769058228),\n",
       " ('elizabeth', 0.6464517712593079),\n",
       " ('mother', 0.631171703338623),\n",
       " ('emperor', 0.6106470227241516),\n",
       " ('wife', 0.6098655462265015)]"
      ]
     },
     "execution_count": 20,
     "metadata": {},
     "output_type": "execute_result"
    }
   ],
   "source": [
    "wv.most_similar(positive=['king','woman'], negative=['man'])"
   ]
  },
  {
   "cell_type": "markdown",
   "metadata": {},
   "source": [
    "## Play the \"say the same thing\" game\n",
    "Rules: player a and b each pick a start word. Each turn, the players pick a new word that tries to get closer to the other player's word. If both players say the same word on a turn, they win!\n",
    "\n",
    "Question: is it good to call most_similar with [a,b], [a,a,b], or [a,a,a,b] and so on? This is like saying, \"I'm going less than halfway between my word and your word.\"\n",
    "\n",
    "Extra rule: words cannot be reused.\n",
    "\n",
    "TODO: convert input to lowercase?\n",
    "\n",
    "TODO: a random starting a and b would be fun.\n",
    "\n",
    "TODO: convert input and each guess to singular? (this is actually hard - there's a python library for it, though) A problem is that the vocabulary might not have the singular form of a plural word, which will crash the game."
   ]
  },
  {
   "cell_type": "code",
   "execution_count": 23,
   "metadata": {},
   "outputs": [
    {
     "name": "stdout",
     "output_type": "stream",
     "text": [
      "python\tbanana\n",
      "monty\tcoconut\n",
      "cleese\tpineapple\n",
      "travolta\tmango\n",
      "depp\tguava\n",
      "wahlberg\tpapaya\n",
      "ruffalo\tjackfruit\n",
      "linney\tlongan\n",
      "dern\tlychee\n",
      "pineapples\tpineapples\n",
      "Win!\n"
     ]
    }
   ],
   "source": [
    "#get from a to b\n",
    "a = 'python'\n",
    "b = 'banana'\n",
    "used = []\n",
    "\n",
    "while True :\n",
    "    print(a + '\\t' + b)\n",
    "        \n",
    "    used.append(a)\n",
    "    used.append(b)    \n",
    "    \n",
    "    if a == b :\n",
    "        print(\"Win!\")\n",
    "        break\n",
    "\n",
    "    #TODO: these two blocks are almost identical, which smells bad.\n",
    "    #      they should be pulled out to a function to look cleaner\n",
    "    #\n",
    "    # A's new word\n",
    "    tryNum = 0\n",
    "    while True :\n",
    "        new_a = wv.most_similar(positive=[a,a,b], topn=tryNum+1)[tryNum][0]\n",
    "        if new_a not in used :\n",
    "            break\n",
    "        tryNum = tryNum + 1\n",
    "    #\n",
    "    # B's new word:\n",
    "    tryNum = 0\n",
    "    while True :\n",
    "        new_b = wv.most_similar(positive=[b,b,a], topn=tryNum+1)[tryNum][0]\n",
    "        if new_b not in used :\n",
    "            break\n",
    "        tryNum = tryNum + 1\n",
    "\n",
    "    a = new_a\n",
    "    b = new_b"
   ]
  },
  {
   "cell_type": "markdown",
   "metadata": {},
   "source": [
    "Maybe the number of repeated aaaa bbbb should be based on the distance? ramped down as the win gets closer?"
   ]
  }
 ],
 "metadata": {
  "kernelspec": {
   "display_name": "Python 3",
   "language": "python",
   "name": "python3"
  },
  "language_info": {
   "codemirror_mode": {
    "name": "ipython",
    "version": 3
   },
   "file_extension": ".py",
   "mimetype": "text/x-python",
   "name": "python",
   "nbconvert_exporter": "python",
   "pygments_lexer": "ipython3",
   "version": "3.7.4"
  }
 },
 "nbformat": 4,
 "nbformat_minor": 2
}
